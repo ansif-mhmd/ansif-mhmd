{
  "nbformat": 4,
  "nbformat_minor": 0,
  "metadata": {
    "colab": {
      "name": "list_set_dict_comprehensions.ipynb",
      "provenance": [],
      "authorship_tag": "ABX9TyM8fjokDm0jodjK8qBmafLU",
      "include_colab_link": true
    },
    "kernelspec": {
      "name": "python3",
      "display_name": "Python 3"
    },
    "language_info": {
      "name": "python"
    }
  },
  "cells": [
    {
      "cell_type": "markdown",
      "metadata": {
        "id": "view-in-github",
        "colab_type": "text"
      },
      "source": [
        "<a href=\"https://colab.research.google.com/github/ansif-mhmd/ansif-mhmd/blob/main/list_set_dict_comprehensions.ipynb\" target=\"_parent\"><img src=\"https://colab.research.google.com/assets/colab-badge.svg\" alt=\"Open In Colab\"/></a>"
      ]
    },
    {
      "cell_type": "code",
      "execution_count": 2,
      "metadata": {
        "id": "SkEiahTpFlXg"
      },
      "outputs": [],
      "source": [
        "a=[1,2,3,4,5,6,6,8]"
      ]
    },
    {
      "cell_type": "code",
      "source": [
        "b=[sq**2 for sq in a ]"
      ],
      "metadata": {
        "id": "RnEh13Iyisw6"
      },
      "execution_count": 3,
      "outputs": []
    },
    {
      "cell_type": "code",
      "source": [
        "b"
      ],
      "metadata": {
        "colab": {
          "base_uri": "https://localhost:8080/"
        },
        "id": "Oc5ncSMki4H6",
        "outputId": "672cb2cd-70b2-4a8a-a954-f1ea45dd1520"
      },
      "execution_count": 4,
      "outputs": [
        {
          "output_type": "execute_result",
          "data": {
            "text/plain": [
              "[1, 4, 9, 16, 25, 36, 36, 64]"
            ]
          },
          "metadata": {},
          "execution_count": 4
        }
      ]
    },
    {
      "cell_type": "code",
      "source": [
        "b= [eve for eve in a if eve%2 ==0]"
      ],
      "metadata": {
        "id": "clX7ewZ6i44u"
      },
      "execution_count": 11,
      "outputs": []
    },
    {
      "cell_type": "code",
      "source": [
        "b"
      ],
      "metadata": {
        "colab": {
          "base_uri": "https://localhost:8080/"
        },
        "id": "3GIeIqCPjNxP",
        "outputId": "44f9370b-ebcc-474e-fbbd-d3621e9e1828"
      },
      "execution_count": 12,
      "outputs": [
        {
          "output_type": "execute_result",
          "data": {
            "text/plain": [
              "[2, 4, 6, 6, 8]"
            ]
          },
          "metadata": {},
          "execution_count": 12
        }
      ]
    },
    {
      "cell_type": "code",
      "source": [
        "b= {eve for eve in a if eve%2 ==0}"
      ],
      "metadata": {
        "id": "_oT_6oezjOct"
      },
      "execution_count": 13,
      "outputs": []
    },
    {
      "cell_type": "code",
      "source": [
        "b"
      ],
      "metadata": {
        "colab": {
          "base_uri": "https://localhost:8080/"
        },
        "id": "umhI-MkbjpQV",
        "outputId": "dabd5f3a-2dac-48ce-8128-53f774b31e18"
      },
      "execution_count": 14,
      "outputs": [
        {
          "output_type": "execute_result",
          "data": {
            "text/plain": [
              "{2, 4, 6, 8}"
            ]
          },
          "metadata": {},
          "execution_count": 14
        }
      ]
    },
    {
      "cell_type": "code",
      "source": [
        "cities=['klpta','btry','mnth']\n",
        "town=['knty','bnchy','vlmnd']"
      ],
      "metadata": {
        "id": "1Oy2Cp5Ojpw5"
      },
      "execution_count": 15,
      "outputs": []
    },
    {
      "cell_type": "code",
      "source": [
        "d={cities:town for cities,town in zip(cities,town)}"
      ],
      "metadata": {
        "id": "5-W2VPK7kXQ9"
      },
      "execution_count": 16,
      "outputs": []
    },
    {
      "cell_type": "code",
      "source": [
        "d"
      ],
      "metadata": {
        "colab": {
          "base_uri": "https://localhost:8080/"
        },
        "id": "vnxBCDPCkhMe",
        "outputId": "6e354188-b98e-4e78-9017-989fb14919d0"
      },
      "execution_count": 17,
      "outputs": [
        {
          "output_type": "execute_result",
          "data": {
            "text/plain": [
              "{'btry': 'bnchy', 'klpta': 'knty', 'mnth': 'vlmnd'}"
            ]
          },
          "metadata": {},
          "execution_count": 17
        }
      ]
    },
    {
      "cell_type": "code",
      "source": [
        "\n"
      ],
      "metadata": {
        "id": "YVyVpY3skiIL"
      },
      "execution_count": null,
      "outputs": []
    }
  ]
}